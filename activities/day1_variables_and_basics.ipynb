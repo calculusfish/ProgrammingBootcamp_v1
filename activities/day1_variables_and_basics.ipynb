{
 "cells": [
  {
   "cell_type": "markdown",
   "id": "360c13df-200c-4a07-afd2-ca8cfb7749f2",
   "metadata": {},
   "source": [
    "# UQ SMP Programming Bootcamp (Python) V1\n",
    "\n",
    "## Day 1 activities: variables and basics"
   ]
  },
  {
   "cell_type": "markdown",
   "id": "45da76df-a658-4efd-8cc8-fbb4758910b3",
   "metadata": {},
   "source": [
    "There are 6 tasks for this day. Ideally have each task solved in a different Python file running in Spyder. Ideally have these files in your GitHub repo by the end of the day as well (only work on getting git going once tasks and key points are complete)."
   ]
  },
  {
   "cell_type": "markdown",
   "id": "0fdc52b2-51e7-4b3e-8fe6-e8aaba0839a9",
   "metadata": {},
   "source": [
    "You can define variables:"
   ]
  },
  {
   "cell_type": "code",
   "execution_count": 17,
   "id": "b0f9a1ee-44a3-49d8-8deb-b394930f8b63",
   "metadata": {},
   "outputs": [],
   "source": [
    "a = 24"
   ]
  },
  {
   "cell_type": "code",
   "execution_count": 18,
   "id": "ebe75663-0799-4d3f-94ed-ef9678f2c13c",
   "metadata": {},
   "outputs": [
    {
     "data": {
      "text/plain": [
       "24"
      ]
     },
     "execution_count": 18,
     "metadata": {},
     "output_type": "execute_result"
    }
   ],
   "source": [
    "a # when you do this Jupyter presents the variable value"
   ]
  },
  {
   "cell_type": "code",
   "execution_count": 127,
   "id": "2f7fdea4-a8f1-460e-8dd6-cd27f51ff962",
   "metadata": {},
   "outputs": [
    {
     "ename": "NameError",
     "evalue": "name 'A' is not defined",
     "output_type": "error",
     "traceback": [
      "\u001b[0;31m---------------------------------------------------------------------------\u001b[0m",
      "\u001b[0;31mNameError\u001b[0m                                 Traceback (most recent call last)",
      "Cell \u001b[0;32mIn[127], line 1\u001b[0m\n\u001b[0;32m----> 1\u001b[0m \u001b[43mA\u001b[49m\n",
      "\u001b[0;31mNameError\u001b[0m: name 'A' is not defined"
     ]
    }
   ],
   "source": [
    "A # \"A\" and \"a\" are different things"
   ]
  },
  {
   "cell_type": "code",
   "execution_count": 19,
   "id": "da9765c9-4619-4be3-bf0b-1ca5ff30a8a8",
   "metadata": {},
   "outputs": [],
   "source": [
    "b = 6 # another variable"
   ]
  },
  {
   "cell_type": "code",
   "execution_count": 20,
   "id": "992d7573-cd87-421f-963c-bb2c18575cb1",
   "metadata": {},
   "outputs": [
    {
     "data": {
      "text/plain": [
       "30"
      ]
     },
     "execution_count": 20,
     "metadata": {},
     "output_type": "execute_result"
    }
   ],
   "source": [
    "a + b # operations between variables"
   ]
  },
  {
   "cell_type": "code",
   "execution_count": 23,
   "id": "51db3d8d-c3a7-4443-9a35-30c7ee334818",
   "metadata": {},
   "outputs": [
    {
     "data": {
      "text/plain": [
       "30"
      ]
     },
     "execution_count": 23,
     "metadata": {},
     "output_type": "execute_result"
    }
   ],
   "source": [
    "c = a + b # = means assignment (put RHS in LHS)\n",
    "c"
   ]
  },
  {
   "cell_type": "code",
   "execution_count": 26,
   "id": "3b8adf06-99d7-4e60-bd64-44d855fdb022",
   "metadata": {},
   "outputs": [
    {
     "data": {
      "text/plain": [
       "'hello'"
      ]
     },
     "execution_count": 26,
     "metadata": {},
     "output_type": "execute_result"
    }
   ],
   "source": [
    "a = \"hello\" #Variables don't have to be numbers. This is a string\n",
    "a"
   ]
  },
  {
   "cell_type": "code",
   "execution_count": 27,
   "id": "08f97fe6-96c5-4564-844a-393b1953d561",
   "metadata": {},
   "outputs": [
    {
     "ename": "TypeError",
     "evalue": "can only concatenate str (not \"int\") to str",
     "output_type": "error",
     "traceback": [
      "\u001b[0;31m---------------------------------------------------------------------------\u001b[0m",
      "\u001b[0;31mTypeError\u001b[0m                                 Traceback (most recent call last)",
      "Cell \u001b[0;32mIn[27], line 1\u001b[0m\n\u001b[0;32m----> 1\u001b[0m \u001b[43ma\u001b[49m\u001b[43m \u001b[49m\u001b[38;5;241;43m+\u001b[39;49m\u001b[43m \u001b[49m\u001b[43mb\u001b[49m\n",
      "\u001b[0;31mTypeError\u001b[0m: can only concatenate str (not \"int\") to str"
     ]
    }
   ],
   "source": [
    "a + b # but you'll get an error adding a number and a string"
   ]
  },
  {
   "cell_type": "code",
   "execution_count": 28,
   "id": "5047db03-1aff-4ac2-b536-e30d6b7e0ca7",
   "metadata": {},
   "outputs": [
    {
     "data": {
      "text/plain": [
       "str"
      ]
     },
     "execution_count": 28,
     "metadata": {},
     "output_type": "execute_result"
    }
   ],
   "source": [
    "type(a) #A is a string (str)"
   ]
  },
  {
   "cell_type": "code",
   "execution_count": 32,
   "id": "fb24cc86-ef87-4d34-a2f9-658bd2e82e5c",
   "metadata": {},
   "outputs": [
    {
     "data": {
      "text/plain": [
       "str"
      ]
     },
     "execution_count": 32,
     "metadata": {},
     "output_type": "execute_result"
    }
   ],
   "source": [
    "type(b) #B is an integer value (int)"
   ]
  },
  {
   "cell_type": "code",
   "execution_count": 33,
   "id": "70a26c82-0597-49c9-a1e0-f6835fd9151e",
   "metadata": {},
   "outputs": [],
   "source": [
    "b = \"dude\""
   ]
  },
  {
   "cell_type": "code",
   "execution_count": 37,
   "id": "6bfdbadd-1f22-4a84-9cf6-42d853a92877",
   "metadata": {},
   "outputs": [
    {
     "data": {
      "text/plain": [
       "'hellodude'"
      ]
     },
     "execution_count": 37,
     "metadata": {},
     "output_type": "execute_result"
    }
   ],
   "source": [
    "a+b # \"adding\" two strings is concatenation"
   ]
  },
  {
   "cell_type": "code",
   "execution_count": 39,
   "id": "d34bb1d1-fab4-4d2f-97c3-feba690f1cac",
   "metadata": {},
   "outputs": [
    {
     "data": {
      "text/plain": [
       "'hello dude'"
      ]
     },
     "execution_count": 39,
     "metadata": {},
     "output_type": "execute_result"
    }
   ],
   "source": [
    "a + ' ' + b #Let's add with a space."
   ]
  },
  {
   "cell_type": "markdown",
   "id": "f9e636a9-23ec-4ccb-bd1a-90fb1037a125",
   "metadata": {},
   "source": [
    "A little program. Let's put it in a function, we'll dive into functions later:"
   ]
  },
  {
   "cell_type": "code",
   "execution_count": 47,
   "id": "1dc3a989-1f4b-4639-9187-3aeb56f7b6b9",
   "metadata": {},
   "outputs": [],
   "source": [
    "def my_little_program(): #functions are defined with def\n",
    "    print(\"Give me a number:\")\n",
    "    x_str = input()\n",
    "    x = int(x_str)\n",
    "    print(\"Give me another number:\")\n",
    "    y_str = input()\n",
    "    y = int(y_str)\n",
    "    result = x + y\n",
    "    print(\"The sum of \", x, \" and \", y, \" is \", result)"
   ]
  },
  {
   "cell_type": "code",
   "execution_count": 48,
   "id": "bf6136ac-ec7c-4c87-81d6-b872963c830f",
   "metadata": {},
   "outputs": [
    {
     "name": "stdout",
     "output_type": "stream",
     "text": [
      "Give me a number:\n"
     ]
    },
    {
     "name": "stdin",
     "output_type": "stream",
     "text": [
      " 200\n"
     ]
    },
    {
     "name": "stdout",
     "output_type": "stream",
     "text": [
      "Give me another number:\n"
     ]
    },
    {
     "name": "stdin",
     "output_type": "stream",
     "text": [
      " 10\n"
     ]
    },
    {
     "name": "stdout",
     "output_type": "stream",
     "text": [
      "The sum of  200  and  10  is  210\n"
     ]
    }
   ],
   "source": [
    "my_little_program()"
   ]
  },
  {
   "cell_type": "markdown",
   "id": "7f068d24-ba5e-4cd1-9cfe-364e140b6fa8",
   "metadata": {},
   "source": [
    "#### Task 1.1: Run my_little_program. Do this both in Jupyter and Spyder."
   ]
  },
  {
   "cell_type": "markdown",
   "id": "508f9dca-f38d-48f1-a75b-bfdf5d521000",
   "metadata": {},
   "source": [
    "#### Task 1.2: Modify the program so that it outputs not only the sum, but also the difference(s), products, and (ratios). Try to format your output as nicely as possible."
   ]
  },
  {
   "cell_type": "code",
   "execution_count": 51,
   "id": "5687af4f-a730-42d9-8a52-7219b3f922dd",
   "metadata": {},
   "outputs": [],
   "source": [
    "x = 100\n",
    "y = 20"
   ]
  },
  {
   "cell_type": "code",
   "execution_count": 54,
   "id": "e6fb8ba8-87b6-4a0e-87b5-ed6b44aa9920",
   "metadata": {},
   "outputs": [
    {
     "data": {
      "text/plain": [
       "0.2"
      ]
     },
     "execution_count": 54,
     "metadata": {},
     "output_type": "execute_result"
    }
   ],
   "source": [
    "z = y/x\n",
    "z"
   ]
  },
  {
   "cell_type": "code",
   "execution_count": 57,
   "id": "2cf45fd8-a0a1-4ca1-9cdd-d1db397da9f0",
   "metadata": {},
   "outputs": [
    {
     "data": {
      "text/plain": [
       "float"
      ]
     },
     "execution_count": 57,
     "metadata": {},
     "output_type": "execute_result"
    }
   ],
   "source": [
    "type(z) #Float means \"floating point\" and is an approximation of a real number (not necessarily integer)"
   ]
  },
  {
   "cell_type": "code",
   "execution_count": 60,
   "id": "c4e08156-705c-474c-8bfe-37b4be316943",
   "metadata": {},
   "outputs": [
    {
     "data": {
      "text/plain": [
       "0.2"
      ]
     },
     "execution_count": 60,
     "metadata": {},
     "output_type": "execute_result"
    }
   ],
   "source": [
    "z = 2e-1 #You can also use scientific notation\n",
    "z"
   ]
  },
  {
   "cell_type": "code",
   "execution_count": 67,
   "id": "79cde95c-668d-462f-b4f8-f4513745bf6c",
   "metadata": {},
   "outputs": [
    {
     "data": {
      "text/plain": [
       "(5.0, float)"
      ]
     },
     "execution_count": 67,
     "metadata": {},
     "output_type": "execute_result"
    }
   ],
   "source": [
    "z = x/y #Even though both x and y are int, z becomes a float\n",
    "z, type(z) #Note that the comma creats a tuple (more on that later)"
   ]
  },
  {
   "cell_type": "code",
   "execution_count": 69,
   "id": "f7bd4fe3-b338-4189-9798-36e3a858f3ed",
   "metadata": {},
   "outputs": [
    {
     "data": {
      "text/plain": [
       "5"
      ]
     },
     "execution_count": 69,
     "metadata": {},
     "output_type": "execute_result"
    }
   ],
   "source": [
    "int(z) #we can convert it back to an int"
   ]
  },
  {
   "cell_type": "code",
   "execution_count": 70,
   "id": "1a9e5512-796e-4c91-a88c-afa54c294e8f",
   "metadata": {},
   "outputs": [
    {
     "data": {
      "text/plain": [
       "0"
      ]
     },
     "execution_count": 70,
     "metadata": {},
     "output_type": "execute_result"
    }
   ],
   "source": [
    "int(y/x) # What happened here?"
   ]
  },
  {
   "cell_type": "markdown",
   "id": "f7747d0f-87ec-4024-8fec-ed0089b9cc6c",
   "metadata": {},
   "source": [
    "#### Other operations"
   ]
  },
  {
   "cell_type": "code",
   "execution_count": 111,
   "id": "f8953d8a-1467-48e2-84d0-b3c1a7fc1e24",
   "metadata": {},
   "outputs": [
    {
     "data": {
      "text/plain": [
       "1024"
      ]
     },
     "execution_count": 111,
     "metadata": {},
     "output_type": "execute_result"
    }
   ],
   "source": [
    "2**10 #power"
   ]
  },
  {
   "cell_type": "code",
   "execution_count": 112,
   "id": "526c11d8-f73c-4faf-bf70-e2816f4a8181",
   "metadata": {},
   "outputs": [
    {
     "data": {
      "text/plain": [
       "9"
      ]
     },
     "execution_count": 112,
     "metadata": {},
     "output_type": "execute_result"
    }
   ],
   "source": [
    "a = 3\n",
    "b = 2\n",
    "a**b"
   ]
  },
  {
   "cell_type": "code",
   "execution_count": 114,
   "id": "f38a8dbf-4439-458a-bd82-cd2b026dd898",
   "metadata": {},
   "outputs": [
    {
     "data": {
      "text/plain": [
       "1"
      ]
     },
     "execution_count": 114,
     "metadata": {},
     "output_type": "execute_result"
    }
   ],
   "source": [
    "10 % 3 #modulo"
   ]
  },
  {
   "cell_type": "code",
   "execution_count": 115,
   "id": "45aeb6b5-6d0e-49aa-ae20-c5982b0b6e9f",
   "metadata": {},
   "outputs": [
    {
     "data": {
      "text/plain": [
       "0"
      ]
     },
     "execution_count": 115,
     "metadata": {},
     "output_type": "execute_result"
    }
   ],
   "source": [
    "10 % 2"
   ]
  },
  {
   "cell_type": "code",
   "execution_count": 116,
   "id": "aaf08c8d-9015-47af-aa89-e3c48150d1c7",
   "metadata": {},
   "outputs": [
    {
     "data": {
      "text/plain": [
       "-2"
      ]
     },
     "execution_count": 116,
     "metadata": {},
     "output_type": "execute_result"
    }
   ],
   "source": [
    "10 % -3"
   ]
  },
  {
   "cell_type": "code",
   "execution_count": 118,
   "id": "83d08022-1683-4ec7-948c-126377abc853",
   "metadata": {},
   "outputs": [
    {
     "data": {
      "text/plain": [
       "3"
      ]
     },
     "execution_count": 118,
     "metadata": {},
     "output_type": "execute_result"
    }
   ],
   "source": [
    "10 // 3 #whole division"
   ]
  },
  {
   "cell_type": "code",
   "execution_count": 119,
   "id": "f7848b55-14c5-4a13-8c29-8bbaa0ab6e01",
   "metadata": {},
   "outputs": [
    {
     "data": {
      "text/plain": [
       "3.3333333333333335"
      ]
     },
     "execution_count": 119,
     "metadata": {},
     "output_type": "execute_result"
    }
   ],
   "source": [
    "10 / 3"
   ]
  },
  {
   "cell_type": "code",
   "execution_count": 122,
   "id": "171105d4-288e-49b9-acb8-63faed23f854",
   "metadata": {},
   "outputs": [
    {
     "data": {
      "text/plain": [
       "10"
      ]
     },
     "execution_count": 122,
     "metadata": {},
     "output_type": "execute_result"
    }
   ],
   "source": [
    "-3*(10 // -3) + (10 % -3) #Always true ???"
   ]
  },
  {
   "cell_type": "markdown",
   "id": "4b872d04-4a46-49e9-a8de-05425e3dfc1c",
   "metadata": {},
   "source": [
    "#### Task 3: Write a program (function) that sees if the above type of relationship is always true for any two integer values"
   ]
  },
  {
   "cell_type": "markdown",
   "id": "71c2c104-9fb9-4a8e-a147-14b4fd13c5dc",
   "metadata": {},
   "source": [
    "### f - strings"
   ]
  },
  {
   "cell_type": "code",
   "execution_count": 73,
   "id": "00710a21-31e9-440b-a23b-854625969304",
   "metadata": {},
   "outputs": [
    {
     "data": {
      "text/plain": [
       "'My age is 49'"
      ]
     },
     "execution_count": 73,
     "metadata": {},
     "output_type": "execute_result"
    }
   ],
   "source": [
    "age = 49\n",
    "f\"My age is {age}\" "
   ]
  },
  {
   "cell_type": "code",
   "execution_count": 79,
   "id": "59498ab3-02d5-4dde-af36-a142a7630d51",
   "metadata": {},
   "outputs": [
    {
     "data": {
      "text/plain": [
       "'The sum of 10 and -2 is 8'"
      ]
     },
     "execution_count": 79,
     "metadata": {},
     "output_type": "execute_result"
    }
   ],
   "source": [
    "a, b = 10, -2 #assignment in one line\n",
    "f\"The sum of {a} and {b} is {a+b}\""
   ]
  },
  {
   "cell_type": "markdown",
   "id": "e8ba5532-7f08-4602-89bc-fc9cfbd8b725",
   "metadata": {},
   "source": [
    "### Lists"
   ]
  },
  {
   "cell_type": "code",
   "execution_count": 80,
   "id": "e0f101cc-63e9-4be0-b0d7-269a13a0dd71",
   "metadata": {},
   "outputs": [],
   "source": [
    "my_friends = [\"Sarat\", \"Benoit\", \"Masoud\"]"
   ]
  },
  {
   "cell_type": "code",
   "execution_count": 81,
   "id": "f44d9319-c556-4e23-a2d0-823bcee112db",
   "metadata": {},
   "outputs": [
    {
     "data": {
      "text/plain": [
       "3"
      ]
     },
     "execution_count": 81,
     "metadata": {},
     "output_type": "execute_result"
    }
   ],
   "source": [
    "len(my_friends)"
   ]
  },
  {
   "cell_type": "code",
   "execution_count": 82,
   "id": "efa06b19-ec63-403a-bd49-ea0967c00f2c",
   "metadata": {},
   "outputs": [
    {
     "data": {
      "text/plain": [
       "'Sarat'"
      ]
     },
     "execution_count": 82,
     "metadata": {},
     "output_type": "execute_result"
    }
   ],
   "source": [
    "my_friends[0]"
   ]
  },
  {
   "cell_type": "code",
   "execution_count": 83,
   "id": "c2e797e0-97d1-4673-bbe3-b357ca741c25",
   "metadata": {},
   "outputs": [
    {
     "data": {
      "text/plain": [
       "'Benoit'"
      ]
     },
     "execution_count": 83,
     "metadata": {},
     "output_type": "execute_result"
    }
   ],
   "source": [
    "my_friends[1]"
   ]
  },
  {
   "cell_type": "code",
   "execution_count": 84,
   "id": "1ef781f9-8cfe-4453-a338-0d7d2d91338e",
   "metadata": {},
   "outputs": [
    {
     "data": {
      "text/plain": [
       "'Masoud'"
      ]
     },
     "execution_count": 84,
     "metadata": {},
     "output_type": "execute_result"
    }
   ],
   "source": [
    "my_friends[2]"
   ]
  },
  {
   "cell_type": "code",
   "execution_count": 85,
   "id": "a69c0715-37ab-450a-b96b-bae3ce9981f9",
   "metadata": {},
   "outputs": [
    {
     "data": {
      "text/plain": [
       "'Masoud'"
      ]
     },
     "execution_count": 85,
     "metadata": {},
     "output_type": "execute_result"
    }
   ],
   "source": [
    "my_friends[-1]"
   ]
  },
  {
   "cell_type": "code",
   "execution_count": 86,
   "id": "691bf94f-e919-451c-bb0f-1f41a7c19f22",
   "metadata": {},
   "outputs": [
    {
     "ename": "IndexError",
     "evalue": "list index out of range",
     "output_type": "error",
     "traceback": [
      "\u001b[0;31m---------------------------------------------------------------------------\u001b[0m",
      "\u001b[0;31mIndexError\u001b[0m                                Traceback (most recent call last)",
      "Cell \u001b[0;32mIn[86], line 1\u001b[0m\n\u001b[0;32m----> 1\u001b[0m \u001b[43mmy_friends\u001b[49m\u001b[43m[\u001b[49m\u001b[38;5;241;43m3\u001b[39;49m\u001b[43m]\u001b[49m\n",
      "\u001b[0;31mIndexError\u001b[0m: list index out of range"
     ]
    }
   ],
   "source": [
    "my_friends[3]"
   ]
  },
  {
   "cell_type": "code",
   "execution_count": 88,
   "id": "f027dd71-39ac-417a-b9e2-6519dabec526",
   "metadata": {},
   "outputs": [
    {
     "data": {
      "text/plain": [
       "['Benoit', 'Masoud']"
      ]
     },
     "execution_count": 88,
     "metadata": {},
     "output_type": "execute_result"
    }
   ],
   "source": [
    "my_friends[1:3]"
   ]
  },
  {
   "cell_type": "code",
   "execution_count": 89,
   "id": "f34484f4-5ad6-47a5-93f2-385c1d015904",
   "metadata": {},
   "outputs": [
    {
     "data": {
      "text/plain": [
       "list"
      ]
     },
     "execution_count": 89,
     "metadata": {},
     "output_type": "execute_result"
    }
   ],
   "source": [
    "type(my_friends)"
   ]
  },
  {
   "cell_type": "code",
   "execution_count": 90,
   "id": "f0a1e27b-1401-4d53-ba1a-faa92ff3eb56",
   "metadata": {},
   "outputs": [],
   "source": [
    "my_stuff = [49, \"Yoni\", my_friends, 108.2, [\"cat\", \"dog\"]]"
   ]
  },
  {
   "cell_type": "code",
   "execution_count": 91,
   "id": "6de178fe-9637-4661-826e-3bcdeeff451f",
   "metadata": {},
   "outputs": [
    {
     "data": {
      "text/plain": [
       "list"
      ]
     },
     "execution_count": 91,
     "metadata": {},
     "output_type": "execute_result"
    }
   ],
   "source": [
    "type(my_stuff)"
   ]
  },
  {
   "cell_type": "code",
   "execution_count": 92,
   "id": "a0270d96-fd96-400e-ba47-76e9a6162719",
   "metadata": {},
   "outputs": [
    {
     "data": {
      "text/plain": [
       "108.2"
      ]
     },
     "execution_count": 92,
     "metadata": {},
     "output_type": "execute_result"
    }
   ],
   "source": [
    "my_stuff[3]"
   ]
  },
  {
   "cell_type": "code",
   "execution_count": 93,
   "id": "2081c85f-bd88-48c3-a1eb-9051e409035b",
   "metadata": {},
   "outputs": [
    {
     "name": "stdout",
     "output_type": "stream",
     "text": [
      "[49, 'Yoni', ['Sarat', 'Benoit', 'Masoud'], 108.2, ['cat', 'dog']]\n"
     ]
    }
   ],
   "source": [
    "print(my_stuff)"
   ]
  },
  {
   "cell_type": "code",
   "execution_count": 99,
   "id": "ab8cf69a-6174-4d42-8223-b38a27bd9007",
   "metadata": {},
   "outputs": [
    {
     "data": {
      "text/plain": [
       "[0, 1, 2, 3, 4]"
      ]
     },
     "execution_count": 99,
     "metadata": {},
     "output_type": "execute_result"
    }
   ],
   "source": [
    "new_list = [x for x in range(5)] #A list comprehension\n",
    "new_list"
   ]
  },
  {
   "cell_type": "code",
   "execution_count": 100,
   "id": "73d2d512-aea5-4c29-a6a8-c20617f0f4e6",
   "metadata": {},
   "outputs": [
    {
     "data": {
      "text/plain": [
       "5"
      ]
     },
     "execution_count": 100,
     "metadata": {},
     "output_type": "execute_result"
    }
   ],
   "source": [
    "len(new_list)"
   ]
  },
  {
   "cell_type": "markdown",
   "id": "f3254329-3066-41b4-b97a-4d4cd56d9127",
   "metadata": {},
   "source": [
    "#### Task 1.3: Try to get your computer stuck.... (create \"too big\" of a list...)"
   ]
  },
  {
   "cell_type": "code",
   "execution_count": 123,
   "id": "aedbb370-a3f1-4870-bf94-b253d48493bd",
   "metadata": {},
   "outputs": [],
   "source": [
    "new_list = [x for x in range(10**4)]"
   ]
  },
  {
   "cell_type": "markdown",
   "id": "4a8ce365-e956-4c1c-8c4d-2aaea42cd1d1",
   "metadata": {},
   "source": [
    "## Boolean variables"
   ]
  },
  {
   "cell_type": "code",
   "execution_count": 128,
   "id": "da49b653-a2fe-4e98-8bbd-325529ff4c6d",
   "metadata": {},
   "outputs": [],
   "source": [
    "a = False\n",
    "b = True"
   ]
  },
  {
   "cell_type": "code",
   "execution_count": 129,
   "id": "034cf5ec-e2b1-420a-83aa-e533e573e747",
   "metadata": {},
   "outputs": [
    {
     "data": {
      "text/plain": [
       "False"
      ]
     },
     "execution_count": 129,
     "metadata": {},
     "output_type": "execute_result"
    }
   ],
   "source": [
    "a and b"
   ]
  },
  {
   "cell_type": "code",
   "execution_count": 130,
   "id": "0405748a-f2b6-471a-8759-410328114e33",
   "metadata": {},
   "outputs": [
    {
     "data": {
      "text/plain": [
       "True"
      ]
     },
     "execution_count": 130,
     "metadata": {},
     "output_type": "execute_result"
    }
   ],
   "source": [
    "a or b"
   ]
  },
  {
   "cell_type": "code",
   "execution_count": 131,
   "id": "680791fd-288c-4ed2-a78c-3a8a1275f9b8",
   "metadata": {},
   "outputs": [
    {
     "data": {
      "text/plain": [
       "False"
      ]
     },
     "execution_count": 131,
     "metadata": {},
     "output_type": "execute_result"
    }
   ],
   "source": [
    "a and not b"
   ]
  },
  {
   "cell_type": "code",
   "execution_count": 132,
   "id": "eece726b-a58f-401c-8f1b-2e0efc923505",
   "metadata": {},
   "outputs": [
    {
     "data": {
      "text/plain": [
       "True"
      ]
     },
     "execution_count": 132,
     "metadata": {},
     "output_type": "execute_result"
    }
   ],
   "source": [
    "not a and b"
   ]
  },
  {
   "cell_type": "code",
   "execution_count": 133,
   "id": "68f871ed-1a13-426b-805a-597a3d8552c3",
   "metadata": {},
   "outputs": [],
   "source": [
    "x = (not a) and (not b)"
   ]
  },
  {
   "cell_type": "code",
   "execution_count": 136,
   "id": "98e827f4-ac02-4a1a-a828-4535bd1bf324",
   "metadata": {},
   "outputs": [],
   "source": [
    "y = not(a or b)"
   ]
  },
  {
   "cell_type": "code",
   "execution_count": 137,
   "id": "c813df18-89f2-4e28-a288-173f99594980",
   "metadata": {},
   "outputs": [
    {
     "data": {
      "text/plain": [
       "(False, False)"
      ]
     },
     "execution_count": 137,
     "metadata": {},
     "output_type": "execute_result"
    }
   ],
   "source": [
    "x, y "
   ]
  },
  {
   "cell_type": "code",
   "execution_count": 145,
   "id": "f8f82a83-a8c0-4681-b8c4-20decbbe4fc9",
   "metadata": {},
   "outputs": [],
   "source": [
    "age = 23.5"
   ]
  },
  {
   "cell_type": "code",
   "execution_count": 146,
   "id": "c01aae4a-3eda-417e-a612-21eee5c30510",
   "metadata": {},
   "outputs": [
    {
     "data": {
      "text/plain": [
       "True"
      ]
     },
     "execution_count": 146,
     "metadata": {},
     "output_type": "execute_result"
    }
   ],
   "source": [
    "20 <= age"
   ]
  },
  {
   "cell_type": "code",
   "execution_count": 147,
   "id": "f3f45fa8-3266-4a8e-831a-3eff8c2c0571",
   "metadata": {},
   "outputs": [
    {
     "data": {
      "text/plain": [
       "True"
      ]
     },
     "execution_count": 147,
     "metadata": {},
     "output_type": "execute_result"
    }
   ],
   "source": [
    "30 > age"
   ]
  },
  {
   "cell_type": "code",
   "execution_count": 149,
   "id": "4d8e4ce8-8afd-4419-84c7-a61276fda774",
   "metadata": {},
   "outputs": [
    {
     "data": {
      "text/plain": [
       "True"
      ]
     },
     "execution_count": 149,
     "metadata": {},
     "output_type": "execute_result"
    }
   ],
   "source": [
    "i_am_in_my_20s = (20 <= age) and (30 > age)\n",
    "i_am_in_my_20s"
   ]
  },
  {
   "cell_type": "markdown",
   "id": "38dfe2ca-5b27-42b1-bff9-ffc2d34c349d",
   "metadata": {},
   "source": [
    "#### Task 1.4: Will x and y always be the same (not matter what boolean values we have for a and b)?"
   ]
  },
  {
   "cell_type": "code",
   "execution_count": 143,
   "id": "477e881e-9b34-472b-a339-62428c08beed",
   "metadata": {},
   "outputs": [],
   "source": [
    "from math import * #get mathematical functions"
   ]
  },
  {
   "cell_type": "code",
   "execution_count": 142,
   "id": "63933313-5b33-48e0-9ae2-5e25be58a147",
   "metadata": {},
   "outputs": [
    {
     "data": {
      "text/plain": [
       "1.4142135623730951"
      ]
     },
     "execution_count": 142,
     "metadata": {},
     "output_type": "execute_result"
    }
   ],
   "source": [
    "sqrt(2)"
   ]
  },
  {
   "cell_type": "markdown",
   "id": "b18b07d2-cc7b-4aee-b887-24e7e106afa8",
   "metadata": {},
   "source": [
    "#### Task 1.5: Write a program that gets a, b, and c, for the equation\n",
    "\n",
    "$$\n",
    "a x^2 + bx + c = 0\n",
    "$$\n",
    "\n",
    "and returns any real solutions using:\n",
    "$$\n",
    "x = \\frac{-b \\pm \\sqrt{b^2 - 4ac}}{2a}\n",
    "$$"
   ]
  },
  {
   "cell_type": "markdown",
   "id": "aac8f8a4-a782-4aea-86bb-30a5712ae6d5",
   "metadata": {},
   "source": [
    "You might notice that if $b^2 - 4ac < 0$ then there are no real solutions. What if we wanted to print something just in such a case."
   ]
  },
  {
   "cell_type": "code",
   "execution_count": 150,
   "id": "4d6dba96-c6a9-455d-8452-addbf0b871ef",
   "metadata": {},
   "outputs": [],
   "source": [
    "disc = 12.3\n",
    "if disc < 0: #A conditional statement!!!\n",
    "    print(\"Negative!\")"
   ]
  },
  {
   "cell_type": "code",
   "execution_count": 151,
   "id": "b4ea596b-e8af-4183-917a-0d3a34ab2643",
   "metadata": {},
   "outputs": [
    {
     "name": "stdout",
     "output_type": "stream",
     "text": [
      "Negative!\n"
     ]
    }
   ],
   "source": [
    "disc = -12.3\n",
    "if disc < 0:\n",
    "    print(\"Negative!\")"
   ]
  },
  {
   "cell_type": "code",
   "execution_count": 155,
   "id": "0f799765-ecbb-4905-9b21-5edbd5b47d51",
   "metadata": {},
   "outputs": [
    {
     "name": "stdin",
     "output_type": "stream",
     "text": [
      " 8\n"
     ]
    }
   ],
   "source": [
    "age = int(input())"
   ]
  },
  {
   "cell_type": "code",
   "execution_count": 156,
   "id": "539f5d97-8173-4f1f-a080-0ce761a71415",
   "metadata": {},
   "outputs": [
    {
     "name": "stdout",
     "output_type": "stream",
     "text": [
      "Child\n"
     ]
    }
   ],
   "source": [
    "if age < 10:\n",
    "    print(\"Child\")\n",
    "elif age < 20:\n",
    "    print(\"Teenager\")\n",
    "elif age < 30:\n",
    "    print(\"In 20's\")\n",
    "else:\n",
    "    print(\"Finally an adult!\")"
   ]
  },
  {
   "cell_type": "markdown",
   "id": "5d44161a-f539-4e1c-9f6c-f0d7f3214b4b",
   "metadata": {},
   "source": [
    "#### Task 1.6: Now use conditional statements to perfect your quadratic equation solving function. Detect against single root, no real roots, not quadratic."
   ]
  },
  {
   "cell_type": "markdown",
   "id": "c1563d1a-11dc-46c5-84d7-fcb6266ce04d",
   "metadata": {},
   "source": [
    "<center>\n",
    "    <h1>\n",
    "        END OF DAY 1\n",
    "    </h1>\n",
    "</center>"
   ]
  }
 ],
 "metadata": {
  "kernelspec": {
   "display_name": "Python 3 (ipykernel)",
   "language": "python",
   "name": "python3"
  },
  "language_info": {
   "codemirror_mode": {
    "name": "ipython",
    "version": 3
   },
   "file_extension": ".py",
   "mimetype": "text/x-python",
   "name": "python",
   "nbconvert_exporter": "python",
   "pygments_lexer": "ipython3",
   "version": "3.10.9"
  }
 },
 "nbformat": 4,
 "nbformat_minor": 5
}
