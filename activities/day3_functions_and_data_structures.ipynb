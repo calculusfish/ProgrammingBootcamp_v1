{
 "cells": [
  {
   "cell_type": "markdown",
   "id": "360c13df-200c-4a07-afd2-ca8cfb7749f2",
   "metadata": {},
   "source": [
    "# UQ SMP Programming Bootcamp (Python) V1\n",
    "\n",
    "## Day 3: functions and a bit more."
   ]
  },
  {
   "cell_type": "markdown",
   "id": "c2b0b496-d35a-4bdb-9025-349434d6f990",
   "metadata": {},
   "source": [
    "We have already used in-built functions such as `print()` and `len()`.\n",
    "\n",
    "We also create our own functions without giving it too much thought.\n",
    "\n",
    "Functions are the basic building blocks of programs (classes are another building block - mostly beyond this bootcamp)."
   ]
  },
  {
   "cell_type": "code",
   "execution_count": 1,
   "id": "f0455b47-a916-4d54-8a4a-e43c19c29a36",
   "metadata": {},
   "outputs": [],
   "source": [
    "def my_function():\n",
    "    print(\"A function that gets no arguments\")"
   ]
  },
  {
   "cell_type": "code",
   "execution_count": 2,
   "id": "47d464c8-83d6-48ca-bd3e-663dc792c99f",
   "metadata": {},
   "outputs": [
    {
     "name": "stdout",
     "output_type": "stream",
     "text": [
      "A function that gets no arguments\n",
      "A function that gets no arguments\n",
      "A function that gets no arguments\n"
     ]
    }
   ],
   "source": [
    "for _ in range(3):\n",
    "    my_function() #invoking the function"
   ]
  },
  {
   "cell_type": "code",
   "execution_count": 3,
   "id": "1c6a756e-a17f-4ee7-840a-30234ce18934",
   "metadata": {},
   "outputs": [],
   "source": [
    "def square_and_increment(x): #A function with an argument\n",
    "    return x**2 + 1"
   ]
  },
  {
   "cell_type": "code",
   "execution_count": 4,
   "id": "ffd293e1-b98e-44db-a712-98b3f99bf56b",
   "metadata": {},
   "outputs": [
    {
     "data": {
      "text/plain": [
       "10"
      ]
     },
     "execution_count": 4,
     "metadata": {},
     "output_type": "execute_result"
    }
   ],
   "source": [
    "square_and_increment(3)"
   ]
  },
  {
   "cell_type": "code",
   "execution_count": 5,
   "id": "63afa017-9442-47e6-a01d-f282404ade4a",
   "metadata": {},
   "outputs": [
    {
     "data": {
      "text/plain": [
       "[1, 2, 5, 10, 17, 26, 37, 50, 65, 82, 101]"
      ]
     },
     "execution_count": 5,
     "metadata": {},
     "output_type": "execute_result"
    }
   ],
   "source": [
    "[square_and_increment(x) for x in range(0,11)]"
   ]
  },
  {
   "cell_type": "code",
   "execution_count": 6,
   "id": "d99090d9-b727-47ce-b665-d1cf31ef171b",
   "metadata": {},
   "outputs": [],
   "source": [
    "def make_age_string(name, age):\n",
    "    return f\"{name} is {age} years old\""
   ]
  },
  {
   "cell_type": "code",
   "execution_count": 7,
   "id": "09fd20cf-5884-48d0-91f4-822b554ca58a",
   "metadata": {},
   "outputs": [
    {
     "data": {
      "text/plain": [
       "'Blake is 24 years old'"
      ]
     },
     "execution_count": 7,
     "metadata": {},
     "output_type": "execute_result"
    }
   ],
   "source": [
    "make_age_string(\"Blake\",24)"
   ]
  },
  {
   "cell_type": "markdown",
   "id": "25ce1261-de02-4454-abc0-06004ee9ccd8",
   "metadata": {},
   "source": [
    "Of course functions can call other functions."
   ]
  },
  {
   "cell_type": "code",
   "execution_count": 8,
   "id": "4b8473c3-e18a-4635-b0e4-c939e54dd677",
   "metadata": {},
   "outputs": [],
   "source": [
    "def make_age_string_with_tricks(name, age):\n",
    "    age2 = square_and_increment(age)\n",
    "    return f\"{name} is {age} years old and their magic number is {age2}\""
   ]
  },
  {
   "cell_type": "code",
   "execution_count": 9,
   "id": "86415c57-cfc6-4d65-97c8-479c82b2f25d",
   "metadata": {},
   "outputs": [
    {
     "data": {
      "text/plain": [
       "\"Blake's string is Blake is 24 years old and their magic number is 577\""
      ]
     },
     "execution_count": 9,
     "metadata": {},
     "output_type": "execute_result"
    }
   ],
   "source": [
    "my_string = make_age_string_with_tricks(\"Blake\", 24)\n",
    "\"Blake's string is \" + my_string"
   ]
  },
  {
   "cell_type": "markdown",
   "id": "2f9daa77-511b-4a20-a837-20bfdbc75cdf",
   "metadata": {},
   "source": [
    "#### Task 3.1: Write a function that take a list of numbers and returns their arithmatic mean (average). "
   ]
  },
  {
   "cell_type": "markdown",
   "id": "63e29360-9087-4596-8a7a-2aadc7e28b6f",
   "metadata": {},
   "source": [
    "A function can also call itself. This is called recursion. Here is a classic example:"
   ]
  },
  {
   "cell_type": "code",
   "execution_count": 10,
   "id": "714f55fd-3145-4cb4-adeb-6853b3e3dc0a",
   "metadata": {},
   "outputs": [],
   "source": [
    "def my_factorial(n):\n",
    "    if n == 0:\n",
    "        return 1\n",
    "    return n * my_factorial(n-1)"
   ]
  },
  {
   "cell_type": "code",
   "execution_count": 11,
   "id": "de5026f1-4633-42be-9681-edef909752d7",
   "metadata": {},
   "outputs": [
    {
     "data": {
      "text/plain": [
       "720"
      ]
     },
     "execution_count": 11,
     "metadata": {},
     "output_type": "execute_result"
    }
   ],
   "source": [
    "my_factorial(6)"
   ]
  },
  {
   "cell_type": "markdown",
   "id": "f7df834b-adaa-4777-b1ba-45786af22360",
   "metadata": {},
   "source": [
    "#### Task 3.2 Write a recursive version of the collatz sequence (until hitting 1), each time printing the value as well."
   ]
  },
  {
   "cell_type": "markdown",
   "id": "a287a453-50e2-4546-a62b-288a33ff01c0",
   "metadata": {},
   "source": [
    "A function can return multiple values by using a tuple. Tuples are interesting in their own right:"
   ]
  },
  {
   "cell_type": "code",
   "execution_count": 12,
   "id": "ebd01a8d-c521-40bd-b61d-6fd1c5c34967",
   "metadata": {},
   "outputs": [
    {
     "data": {
      "text/plain": [
       "tuple"
      ]
     },
     "execution_count": 12,
     "metadata": {},
     "output_type": "execute_result"
    }
   ],
   "source": [
    "x = (\"hello\", 28)\n",
    "type(x)"
   ]
  },
  {
   "cell_type": "code",
   "execution_count": 13,
   "id": "9450cc8e-cc0a-4e46-a4d3-9e4dedeaa41e",
   "metadata": {},
   "outputs": [
    {
     "data": {
      "text/plain": [
       "str"
      ]
     },
     "execution_count": 13,
     "metadata": {},
     "output_type": "execute_result"
    }
   ],
   "source": [
    "x = (\"hello\")\n",
    "type(x)"
   ]
  },
  {
   "cell_type": "code",
   "execution_count": 14,
   "id": "ea587a1a-db23-4fda-b0da-b15f315ca179",
   "metadata": {},
   "outputs": [
    {
     "data": {
      "text/plain": [
       "tuple"
      ]
     },
     "execution_count": 14,
     "metadata": {},
     "output_type": "execute_result"
    }
   ],
   "source": [
    "x = (\"hello\",)\n",
    "type(x)"
   ]
  },
  {
   "cell_type": "code",
   "execution_count": 15,
   "id": "69f27ec6-eb89-486f-9999-5b9e6173915c",
   "metadata": {},
   "outputs": [
    {
     "data": {
      "text/plain": [
       "3"
      ]
     },
     "execution_count": 15,
     "metadata": {},
     "output_type": "execute_result"
    }
   ],
   "source": [
    "x = (\"hello\", 28, -1.3)\n",
    "len(x)"
   ]
  },
  {
   "cell_type": "code",
   "execution_count": 16,
   "id": "6928c5bb-3a6d-4a97-adb2-d5575d0e2c13",
   "metadata": {},
   "outputs": [
    {
     "data": {
      "text/plain": [
       "-1.3"
      ]
     },
     "execution_count": 16,
     "metadata": {},
     "output_type": "execute_result"
    }
   ],
   "source": [
    "x[2]"
   ]
  },
  {
   "cell_type": "code",
   "execution_count": 17,
   "id": "12c7877e-56be-4742-b385-7ee1c92a37cc",
   "metadata": {},
   "outputs": [
    {
     "data": {
      "text/plain": [
       "()"
      ]
     },
     "execution_count": 17,
     "metadata": {},
     "output_type": "execute_result"
    }
   ],
   "source": [
    "x = tuple() #empty tuple\n",
    "x"
   ]
  },
  {
   "cell_type": "markdown",
   "id": "060c0960-b841-4b2f-9798-c508361603e7",
   "metadata": {},
   "source": [
    "Tuples are immutable (unlike lists)."
   ]
  },
  {
   "cell_type": "code",
   "execution_count": 18,
   "id": "0f95364c-7cb8-4fff-a99a-ce3185577b2f",
   "metadata": {},
   "outputs": [
    {
     "ename": "TypeError",
     "evalue": "'tuple' object does not support item assignment",
     "output_type": "error",
     "traceback": [
      "\u001b[0;31m---------------------------------------------------------------------------\u001b[0m",
      "\u001b[0;31mTypeError\u001b[0m                                 Traceback (most recent call last)",
      "Cell \u001b[0;32mIn[18], line 1\u001b[0m\n\u001b[0;32m----> 1\u001b[0m x[\u001b[38;5;241m2\u001b[39m] \u001b[38;5;241m=\u001b[39m \u001b[38;5;241m2.8\u001b[39m\n",
      "\u001b[0;31mTypeError\u001b[0m: 'tuple' object does not support item assignment"
     ]
    }
   ],
   "source": [
    "x[2] = 2.8"
   ]
  },
  {
   "cell_type": "code",
   "execution_count": 19,
   "id": "4ba3d1ef-9d50-49ee-b827-68ec0e5a1e5f",
   "metadata": {},
   "outputs": [
    {
     "data": {
      "text/plain": [
       "['hello', 28, 2.8]"
      ]
     },
     "execution_count": 19,
     "metadata": {},
     "output_type": "execute_result"
    }
   ],
   "source": [
    "x = [\"hello\", 28, -1.3]\n",
    "x[2] = 2.8\n",
    "x"
   ]
  },
  {
   "cell_type": "code",
   "execution_count": 20,
   "id": "349f897f-ea4d-4da5-9935-d84ff8d1e1da",
   "metadata": {},
   "outputs": [],
   "source": [
    "from math import *"
   ]
  },
  {
   "cell_type": "code",
   "execution_count": 21,
   "id": "8dab9ecd-d2cd-4f92-90ac-dee8de1c29cd",
   "metadata": {},
   "outputs": [],
   "source": [
    "def real_roots_of_quadratic(a, b, c):\n",
    "    disc = b**2 - 4*a*c\n",
    "    if disc < 0:\n",
    "        return tuple() #empty tuple - no solutions.\n",
    "    elif disc == 0:\n",
    "        return (-b / 2 / a, ) #tuple of length 1 \n",
    "    else: #disc >0\n",
    "        return ((-b + sqrt(disc)) / 2 / a, (-b - sqrt(disc)) / 2 / a)"
   ]
  },
  {
   "cell_type": "code",
   "execution_count": 22,
   "id": "d0be9395-8aa4-4fce-a4c8-76567e70d378",
   "metadata": {},
   "outputs": [],
   "source": [
    "def check_qudratic(a, b, c, roots):\n",
    "    f = lambda x: a*x**2 + b*x + c*x #This is a lambda function! \n",
    "    for r in roots:\n",
    "        print(f(r))"
   ]
  },
  {
   "cell_type": "code",
   "execution_count": 23,
   "id": "e80fcd1f-6bf8-439e-adca-ee7f533791ca",
   "metadata": {},
   "outputs": [
    {
     "data": {
      "text/plain": [
       "(0.0,)"
      ]
     },
     "execution_count": 23,
     "metadata": {},
     "output_type": "execute_result"
    }
   ],
   "source": [
    "roots = real_roots_of_quadratic(1,0,0)\n",
    "roots"
   ]
  },
  {
   "cell_type": "code",
   "execution_count": 24,
   "id": "9be4e5e3-3c40-4aff-9474-09713a91bf50",
   "metadata": {},
   "outputs": [
    {
     "name": "stdout",
     "output_type": "stream",
     "text": [
      "0.0\n"
     ]
    }
   ],
   "source": [
    "check_qudratic(1, 0, 0, roots)"
   ]
  },
  {
   "cell_type": "code",
   "execution_count": 25,
   "id": "a550ece8-e4ec-43b5-a0b8-1ecd6f566fa3",
   "metadata": {},
   "outputs": [
    {
     "data": {
      "text/plain": [
       "(1.0, -1.0)"
      ]
     },
     "execution_count": 25,
     "metadata": {},
     "output_type": "execute_result"
    }
   ],
   "source": [
    "real_roots_of_quadratic(1,0,-1)"
   ]
  },
  {
   "cell_type": "code",
   "execution_count": 26,
   "id": "796107af-846e-4a44-83b1-bad147e6aead",
   "metadata": {},
   "outputs": [
    {
     "name": "stdout",
     "output_type": "stream",
     "text": [
      "0.0\n"
     ]
    }
   ],
   "source": [
    "check_qudratic(1, 0, -1, roots)"
   ]
  },
  {
   "cell_type": "code",
   "execution_count": 27,
   "id": "c9bb90e4-4f0a-48ff-8f1e-d3ca2af54f12",
   "metadata": {},
   "outputs": [],
   "source": [
    "roots = real_roots_of_quadratic(-1,0,-1)"
   ]
  },
  {
   "cell_type": "code",
   "execution_count": 28,
   "id": "e3e3bced-255b-490e-95e8-4d4a93232c61",
   "metadata": {},
   "outputs": [],
   "source": [
    "check_qudratic(-1, 0, -1, roots)"
   ]
  },
  {
   "cell_type": "markdown",
   "id": "27dd3643-4157-401c-ba94-381e43a0da38",
   "metadata": {},
   "source": [
    "#### Task 3.3 Write function that gets a list of numbers and returns a tuple with the sample mean and sample standard deviation."
   ]
  },
  {
   "cell_type": "markdown",
   "id": "d48f2f24-cdc7-4a87-bb9d-a90f0bcf5d3b",
   "metadata": {},
   "source": [
    "We can (should) document our functions."
   ]
  },
  {
   "cell_type": "code",
   "execution_count": 29,
   "id": "047d149c-cc10-4036-afc9-1c134bad4b6f",
   "metadata": {},
   "outputs": [],
   "source": [
    "def check_all_lower_case(str):\n",
    "    #This function checks if the input string is all_lower case\n",
    "    for c in str:\n",
    "        if ord(c) >= ord('A') and ord(c) <= ord('Z'):\n",
    "            return False\n",
    "    return True"
   ]
  },
  {
   "cell_type": "code",
   "execution_count": 30,
   "id": "37414e00-2595-408c-a764-4668230f2c30",
   "metadata": {},
   "outputs": [
    {
     "data": {
      "text/plain": [
       "\u001b[0;31mSignature:\u001b[0m  \u001b[0mcheck_all_lower_case\u001b[0m\u001b[0;34m(\u001b[0m\u001b[0mstr\u001b[0m\u001b[0;34m)\u001b[0m\u001b[0;34m\u001b[0m\u001b[0;34m\u001b[0m\u001b[0m\n",
       "\u001b[0;31mDocstring:\u001b[0m <no docstring>\n",
       "\u001b[0;31mFile:\u001b[0m      /var/folders/1r/48qlcl0n01q21sqtbnvn6m9c0000gp/T/ipykernel_28081/2099116852.py\n",
       "\u001b[0;31mType:\u001b[0m      function"
      ]
     },
     "metadata": {},
     "output_type": "display_data"
    }
   ],
   "source": [
    "? check_all_lower_case"
   ]
  },
  {
   "cell_type": "code",
   "execution_count": 31,
   "id": "ccc504dc-bd21-47c5-b829-9e38be469dcf",
   "metadata": {},
   "outputs": [
    {
     "data": {
      "text/plain": [
       "False"
      ]
     },
     "execution_count": 31,
     "metadata": {},
     "output_type": "execute_result"
    }
   ],
   "source": [
    "check_all_lower_case(\"Miriam\")"
   ]
  },
  {
   "cell_type": "code",
   "execution_count": 32,
   "id": "836fd135-4522-4676-b38b-fd57625f0b10",
   "metadata": {},
   "outputs": [
    {
     "data": {
      "text/plain": [
       "True"
      ]
     },
     "execution_count": 32,
     "metadata": {},
     "output_type": "execute_result"
    }
   ],
   "source": [
    "check_all_lower_case(\"miriam\")"
   ]
  },
  {
   "cell_type": "markdown",
   "id": "7ad3ad2a-f1ee-47c2-a42a-03fd8d431028",
   "metadata": {},
   "source": [
    "#### Task 3.4 Write a function checks if all characters are letters (upper case or lower case)."
   ]
  },
  {
   "cell_type": "markdown",
   "id": "7eaad3e4-5dc1-4e2e-8ce6-4945f3176e2f",
   "metadata": {},
   "source": [
    "Variables have scope. For example a variable defined in one running program is not visible in another program. The same goes with functions."
   ]
  },
  {
   "cell_type": "code",
   "execution_count": 33,
   "id": "267cbcde-7438-4d43-bb94-67900e74c352",
   "metadata": {},
   "outputs": [
    {
     "name": "stdout",
     "output_type": "stream",
     "text": [
      "did nothing\n",
      "2\n"
     ]
    }
   ],
   "source": [
    "a = 2\n",
    "def my_func():\n",
    "    a = 3 #This will not change a which is in global scope\n",
    "    print(\"did nothing\")\n",
    "\n",
    "my_func()\n",
    "print(a)"
   ]
  },
  {
   "cell_type": "code",
   "execution_count": 34,
   "id": "e1b5e07a-0da1-4b8c-92fc-617cbad1dac6",
   "metadata": {},
   "outputs": [
    {
     "name": "stdout",
     "output_type": "stream",
     "text": [
      "did something\n",
      "3\n"
     ]
    }
   ],
   "source": [
    "a = 2\n",
    "def my_func():\n",
    "    global a\n",
    "    a = 3 #This WILL change a which is in global scope\n",
    "    print(\"did something\")\n",
    "\n",
    "my_func()\n",
    "print(a)"
   ]
  },
  {
   "cell_type": "markdown",
   "id": "4345039d-3486-4986-ad53-b609191afed6",
   "metadata": {},
   "source": [
    "Python can have named arguments to functions with default values."
   ]
  },
  {
   "cell_type": "code",
   "execution_count": 35,
   "id": "a9bf84d4-32aa-4354-afdd-fbe893bb4f82",
   "metadata": {},
   "outputs": [],
   "source": [
    "import math"
   ]
  },
  {
   "cell_type": "code",
   "execution_count": 36,
   "id": "fe458440-c722-44ec-99be-bfd4ec461d8d",
   "metadata": {},
   "outputs": [],
   "source": [
    "def normal_density(x, mu = 0, sigma = 1):\n",
    "    return 1/sqrt(2*math.pi) / sigma * exp(-((x-mu)/(2*sigma))**2)"
   ]
  },
  {
   "cell_type": "code",
   "execution_count": 37,
   "id": "e90654e9-1ff2-40ec-8bd8-56ebac0d2335",
   "metadata": {},
   "outputs": [
    {
     "data": {
      "text/plain": [
       "Text(0, 0.5, 'Density')"
      ]
     },
     "execution_count": 37,
     "metadata": {},
     "output_type": "execute_result"
    },
    {
     "data": {
      "image/png": "[encoded data removed]",
      "text/plain": [
       "<Figure size 640x480 with 1 Axes>"
      ]
     },
     "metadata": {},
     "output_type": "display_data"
    }
   ],
   "source": [
    "import matplotlib.pyplot as plt\n",
    "import numpy as np\n",
    "\n",
    "x_range = np.arange(-6.0,6.0,0.01)\n",
    "density_standard = [normal_density(x) for x in x_range]\n",
    "density_wide = [normal_density(x, mu = 0, sigma = 1.5) for x in x_range]\n",
    "\n",
    "plt.plot(x_range, density_standard)\n",
    "plt.plot(x_range, density_wide)\n",
    "\n",
    "plt.xlabel(\"x\")\n",
    "plt.ylabel(\"Density\")"
   ]
  },
  {
   "cell_type": "markdown",
   "id": "e73e7853-67de-494b-87db-1fbaea3e241f",
   "metadata": {},
   "source": [
    "#### Task 3.5 Write function that gets another pure function (e.g. a normal density) and integrates it with specified limits using an approximation like,\n",
    "\n",
    "$$\n",
    "\\int_{a}^b f(x) dx \\approx \\sum f(x) \\delta\n",
    "$$\n",
    "\n",
    "The function will have arguments for the number of elements in the summation.\n",
    "\n",
    "Test this on the normal densities above."
   ]
  },
  {
   "cell_type": "markdown",
   "id": "040f43e0-de29-456f-8051-561708e4bfba",
   "metadata": {},
   "source": [
    "### Let's now focus on lists..."
   ]
  },
  {
   "cell_type": "code",
   "execution_count": 43,
   "id": "20dee781-aa02-4de9-9746-a4f7746a32df",
   "metadata": {},
   "outputs": [],
   "source": [
    "my_data = [\"My name\", 87, 23]"
   ]
  },
  {
   "cell_type": "code",
   "execution_count": 44,
   "id": "bce4214f-405f-44c4-bd5d-8018174a56f5",
   "metadata": {},
   "outputs": [],
   "source": [
    "your_data = my_data"
   ]
  },
  {
   "cell_type": "code",
   "execution_count": 45,
   "id": "8356c542-5e1d-427a-a140-35031d83addc",
   "metadata": {},
   "outputs": [],
   "source": [
    "your_data[-1] = 100"
   ]
  },
  {
   "cell_type": "code",
   "execution_count": 46,
   "id": "938349aa-3680-4f39-a02f-0221c964237a",
   "metadata": {},
   "outputs": [
    {
     "data": {
      "text/plain": [
       "['My name', 87, 100]"
      ]
     },
     "execution_count": 46,
     "metadata": {},
     "output_type": "execute_result"
    }
   ],
   "source": [
    "my_data #Wow my_data is also changed. This is because both my_data and your_data point to the same list."
   ]
  },
  {
   "cell_type": "code",
   "execution_count": 47,
   "id": "4263ff65-aab0-4e73-aadd-c358b0f8f525",
   "metadata": {},
   "outputs": [
    {
     "data": {
      "text/plain": [
       "(['My name', 87, 23], ['My name', 87, 100])"
      ]
     },
     "execution_count": 47,
     "metadata": {},
     "output_type": "execute_result"
    }
   ],
   "source": [
    "my_data = [\"My name\", 87, 23]\n",
    "your_data = my_data.copy() #Copy actually creates a copy of the list.\n",
    "your_data[-1] = 100\n",
    "my_data, your_data"
   ]
  },
  {
   "cell_type": "markdown",
   "id": "782d5943-9a95-4bd6-964c-6fff2596ad88",
   "metadata": {},
   "source": [
    "#### Task 3.6 Write function gets a list and returns a sorted version of the list.\n"
   ]
  },
  {
   "cell_type": "markdown",
   "id": "81824b5b-9689-4114-acfb-165858ee4241",
   "metadata": {},
   "source": [
    "There are a few functions for lists. Some of these are methods of the list class."
   ]
  },
  {
   "cell_type": "code",
   "execution_count": 48,
   "id": "90f3072a-88d6-417f-9caa-e8b85c206ee6",
   "metadata": {},
   "outputs": [
    {
     "data": {
      "text/plain": [
       "['jack', 'jill', 'emma', 'lili']"
      ]
     },
     "execution_count": 48,
     "metadata": {},
     "output_type": "execute_result"
    }
   ],
   "source": [
    "my_friends = [\"jack\", \"jill\"]\n",
    "your_friends = [\"emma\", \"lili\"]\n",
    "my_friends + your_friends"
   ]
  },
  {
   "cell_type": "code",
   "execution_count": 49,
   "id": "0aae4476-4298-4d22-a871-b80d1078731a",
   "metadata": {},
   "outputs": [
    {
     "data": {
      "text/plain": [
       "['A', 'B', 'C', 'D', 'E']"
      ]
     },
     "execution_count": 49,
     "metadata": {},
     "output_type": "execute_result"
    }
   ],
   "source": [
    "list1 = [\"A\", \"B\" , \"C\"]\n",
    "list2 = [\"D\", \"E\"]\n",
    "\n",
    "for x in list2:\n",
    "  list1.append(x)\n",
    "\n",
    "list1"
   ]
  },
  {
   "cell_type": "code",
   "execution_count": 50,
   "id": "15cee919-8f0a-4d4d-9251-13b1c7f69943",
   "metadata": {},
   "outputs": [
    {
     "data": {
      "text/plain": [
       "(False, True)"
      ]
     },
     "execution_count": 50,
     "metadata": {},
     "output_type": "execute_result"
    }
   ],
   "source": [
    "'F' in list1, 'C' in list1 #you can use `in`"
   ]
  },
  {
   "cell_type": "markdown",
   "id": "4ac8343e-c30e-4fb6-8ee2-bcbfa40c1bbf",
   "metadata": {},
   "source": [
    "#### Task 3.7: Write a function that loops, asking us for friend's names and their phone numbers until we say \"stop\". It then returns a tuple with one list of names, and one list of phone numbers...."
   ]
  },
  {
   "cell_type": "markdown",
   "id": "944e4f6c-b0a8-4936-9bf9-f044d215a0e9",
   "metadata": {},
   "source": [
    "E.g. The return value can be like:"
   ]
  },
  {
   "cell_type": "code",
   "execution_count": 51,
   "id": "acb8462c-870d-49f2-b41c-06319c1bf793",
   "metadata": {},
   "outputs": [],
   "source": [
    "result = ([\"Kayley\", \"Emily\", \"Miriam\"],[\"042424535\", \"042424125\", \"04235235\"])"
   ]
  },
  {
   "cell_type": "markdown",
   "id": "cd033447-3e31-49a7-af30-b26ba137df2e",
   "metadata": {},
   "source": [
    "#### Task 3.8: Now write a function that gets a result and a name, it should return the phone number of the name, or otherwise return \"nothing\""
   ]
  },
  {
   "cell_type": "markdown",
   "id": "1b00c73e-bfca-44e0-b5e0-3a88ef551029",
   "metadata": {},
   "source": [
    "Lucikly, Python comes with a built in data structure that is very suitable for such lookup and other many cases."
   ]
  },
  {
   "cell_type": "code",
   "execution_count": 52,
   "id": "ea4cfcd5-d1a2-4165-97dc-e30149f20354",
   "metadata": {},
   "outputs": [],
   "source": [
    "data = {\"Kayley\": \"042424535\", \"Emily\": \"042424125\", \"Miriam\": \"04235235\" }"
   ]
  },
  {
   "cell_type": "code",
   "execution_count": 53,
   "id": "52f31d0a-4598-4613-b3aa-82c27015fce6",
   "metadata": {},
   "outputs": [
    {
     "data": {
      "text/plain": [
       "'042424535'"
      ]
     },
     "execution_count": 53,
     "metadata": {},
     "output_type": "execute_result"
    }
   ],
   "source": [
    "data[\"Kayley\"] #we can now index based on the keys."
   ]
  },
  {
   "cell_type": "code",
   "execution_count": 54,
   "id": "6dd19fde-a669-43b2-89c4-eefb21943c3e",
   "metadata": {},
   "outputs": [
    {
     "data": {
      "text/plain": [
       "dict_keys(['Kayley', 'Emily', 'Miriam'])"
      ]
     },
     "execution_count": 54,
     "metadata": {},
     "output_type": "execute_result"
    }
   ],
   "source": [
    "data.keys()"
   ]
  },
  {
   "cell_type": "code",
   "execution_count": 55,
   "id": "a770931b-a14d-4080-a7f4-8b18635d823a",
   "metadata": {},
   "outputs": [
    {
     "data": {
      "text/plain": [
       "dict_values(['042424535', '042424125', '04235235'])"
      ]
     },
     "execution_count": 55,
     "metadata": {},
     "output_type": "execute_result"
    }
   ],
   "source": [
    "data.values()"
   ]
  },
  {
   "cell_type": "code",
   "execution_count": 56,
   "id": "e9f1c9a9-3c26-4de7-87d9-58523db932fe",
   "metadata": {},
   "outputs": [],
   "source": [
    "data[\"New friend\"]=\"5124125\""
   ]
  },
  {
   "cell_type": "code",
   "execution_count": 57,
   "id": "c8356d9c-c928-4e50-b9a5-c24bcb9fd8b8",
   "metadata": {},
   "outputs": [
    {
     "data": {
      "text/plain": [
       "{'Kayley': '042424535',\n",
       " 'Emily': '042424125',\n",
       " 'Miriam': '04235235',\n",
       " 'New friend': '5124125'}"
      ]
     },
     "execution_count": 57,
     "metadata": {},
     "output_type": "execute_result"
    }
   ],
   "source": [
    "data"
   ]
  },
  {
   "cell_type": "code",
   "execution_count": 58,
   "id": "3a9cb866-d45d-434a-914a-fae347037331",
   "metadata": {},
   "outputs": [
    {
     "ename": "KeyError",
     "evalue": "'Imaginary friend'",
     "output_type": "error",
     "traceback": [
      "\u001b[0;31m---------------------------------------------------------------------------\u001b[0m",
      "\u001b[0;31mKeyError\u001b[0m                                  Traceback (most recent call last)",
      "Cell \u001b[0;32mIn[58], line 1\u001b[0m\n\u001b[0;32m----> 1\u001b[0m \u001b[43mdata\u001b[49m\u001b[43m[\u001b[49m\u001b[38;5;124;43m\"\u001b[39;49m\u001b[38;5;124;43mImaginary friend\u001b[39;49m\u001b[38;5;124;43m\"\u001b[39;49m\u001b[43m]\u001b[49m\n",
      "\u001b[0;31mKeyError\u001b[0m: 'Imaginary friend'"
     ]
    }
   ],
   "source": [
    "data[\"Imaginary friend\"]"
   ]
  },
  {
   "cell_type": "code",
   "execution_count": 59,
   "id": "e823ca1b-11d1-4c32-8b0b-18e4183369ab",
   "metadata": {},
   "outputs": [
    {
     "data": {
      "text/plain": [
       "{'Kayley': '042424535',\n",
       " 'Emily': '042424125',\n",
       " 'Miriam': '04235235',\n",
       " 'New friend': '5124125'}"
      ]
     },
     "execution_count": 59,
     "metadata": {},
     "output_type": "execute_result"
    }
   ],
   "source": [
    "data"
   ]
  },
  {
   "cell_type": "code",
   "execution_count": 60,
   "id": "c962513a-7474-48a8-b13b-36800fbc27f3",
   "metadata": {},
   "outputs": [],
   "source": [
    "del data['New friend']"
   ]
  },
  {
   "cell_type": "code",
   "execution_count": 61,
   "id": "ba83e394-594d-43fe-882e-e4d20b1f8457",
   "metadata": {},
   "outputs": [
    {
     "data": {
      "text/plain": [
       "{'Kayley': '042424535', 'Emily': '042424125', 'Miriam': '04235235'}"
      ]
     },
     "execution_count": 61,
     "metadata": {},
     "output_type": "execute_result"
    }
   ],
   "source": [
    "data"
   ]
  },
  {
   "cell_type": "markdown",
   "id": "f6774fe0-8917-4cc7-88ab-bb1fafb08000",
   "metadata": {},
   "source": [
    "See more on the [Python docs](https://docs.python.org/3/tutorial/datastructures.html)"
   ]
  },
  {
   "cell_type": "markdown",
   "id": "83606efa-c014-4d76-a6e3-4df56a92fa28",
   "metadata": {},
   "source": [
    "Python also has sets:"
   ]
  },
  {
   "cell_type": "code",
   "execution_count": 62,
   "id": "65e2a8f5-d943-4ff8-8a97-02b1bc25c0b7",
   "metadata": {},
   "outputs": [],
   "source": [
    "my_set = {\"car\", 245, \"dog\", (2,3)}"
   ]
  },
  {
   "cell_type": "markdown",
   "id": "60c95b37-ed77-440a-a895-b4890795fcd5",
   "metadata": {},
   "source": [
    "#### Task 3.9: Try to create a set with a list as an element. Discuss and investigate the error message that you get."
   ]
  },
  {
   "cell_type": "markdown",
   "id": "32c71048-b940-4a09-84e1-b1ef7d224d61",
   "metadata": {},
   "source": [
    "#### Task 3.10: In this task you will manipulate a dictionary based data structure for contacts..."
   ]
  },
  {
   "cell_type": "markdown",
   "id": "e0b9eb00-f214-4c7f-8e93-37c1486f9c8b",
   "metadata": {},
   "source": [
    "Assume you have a contacts... where a contact is identified by a name.  These are the keys in the dictionary. Every contact has a key which itself a dictionary with the following keys: `phone_number` (string), `email` (string), `age` (int), and `friends` (set)."
   ]
  },
  {
   "cell_type": "code",
   "execution_count": 63,
   "id": "8182edc6-caba-47a0-b244-4e60e784e50f",
   "metadata": {},
   "outputs": [
    {
     "data": {
      "text/plain": [
       "{'phone_number': '3562252',\n",
       " 'email': 'jake5@gmail.com',\n",
       " 'age': 22,\n",
       " 'friends': {'Ben', 'Jacob'}}"
      ]
     },
     "execution_count": 63,
     "metadata": {},
     "output_type": "execute_result"
    }
   ],
   "source": [
    "# for example\n",
    "data = {\"Ben\": \n",
    "            {\"phone_number\": \"35123532\", \n",
    "             \"email\": \"ben@onehop.com\", \n",
    "             \"age\": 34, \n",
    "             \"friends\": {\"Jacob\", \"Beth\"}\n",
    "            },\n",
    "        \"Lea\":\n",
    "            {\"phone_number\": \"35345125652\", \n",
    "             \"email\": \"lea3523@gmail.com\", \n",
    "             \"age\": 82, \n",
    "             \"friends\": {\"Ben\"}\n",
    "            },\n",
    "        \"Jacob\":\n",
    "            {\"phone_number\": \"3515252\", \n",
    "             \"email\": \"jake5@gmail.com\", \n",
    "             \"age\": 22, \n",
    "             \"friends\": {}\n",
    "            },\n",
    "        \"Beth\":\n",
    "            {\"phone_number\": \"3562252\", \n",
    "             \"email\": \"jake5@gmail.com\", \n",
    "             \"age\": 22, \n",
    "             \"friends\": {\"Jacob\", \"Ben\"}\n",
    "            }\n",
    "       }\n",
    "data[\"Beth\"]"
   ]
  },
  {
   "cell_type": "markdown",
   "id": "32efa208-0f4d-4ca7-a4b1-6f4ac74a19d9",
   "metadata": {},
   "source": [
    "3.10 (a): Write a function that checks consistency between friends. For example, see that every friend of Ben exists and Ben is a friend of him as well. \n",
    "\n",
    "3.10 (b): Write a function that adds a new entry.\n",
    "\n",
    "3.10 (c): Write a function that deletes an entry (for this it would need to potentially delete entries from the friends set of everyone)."
   ]
  },
  {
   "cell_type": "markdown",
   "id": "c1563d1a-11dc-46c5-84d7-fcb6266ce04d",
   "metadata": {},
   "source": [
    "<center>\n",
    "    <h1>\n",
    "        END OF DAY 3\n",
    "    </h1>\n",
    "</center>"
   ]
  }
 ],
 "metadata": {
  "kernelspec": {
   "display_name": "Python 3 (ipykernel)",
   "language": "python",
   "name": "python3"
  },
  "language_info": {
   "codemirror_mode": {
    "name": "ipython",
    "version": 3
   },
   "file_extension": ".py",
   "mimetype": "text/x-python",
   "name": "python",
   "nbconvert_exporter": "python",
   "pygments_lexer": "ipython3",
   "version": "3.10.9"
  }
 },
 "nbformat": 4,
 "nbformat_minor": 5
}
